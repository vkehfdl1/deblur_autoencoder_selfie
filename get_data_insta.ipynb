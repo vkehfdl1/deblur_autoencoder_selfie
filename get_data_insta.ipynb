{
 "cells": [
  {
   "cell_type": "code",
   "execution_count": 1,
   "id": "partial-bangladesh",
   "metadata": {},
   "outputs": [],
   "source": [
    "from urllib.request import urlopen\n",
    "from urllib.parse import quote_plus\n",
    "from bs4 import BeautifulSoup\n",
    "from selenium import webdriver\n",
    "import time\n",
    "import requests\n",
    "import shutil\n",
    "import sys"
   ]
  },
  {
   "cell_type": "code",
   "execution_count": 2,
   "id": "cosmetic-tribe",
   "metadata": {},
   "outputs": [],
   "source": [
    "baseUrl = 'https://www.instagram.com/explore/tags/'\n",
    "plusUrl = '증명사진'\n",
    "url = baseUrl + quote_plus(plusUrl)"
   ]
  },
  {
   "cell_type": "markdown",
   "id": "thermal-event",
   "metadata": {},
   "source": [
    "[이 자료](https://somjang.tistory.com/entry/Ubuntu-Ubuntu-%EC%84%9C%EB%B2%84%EC%97%90-Selenium-%EC%84%A4%EC%B9%98%ED%95%98%EA%B3%A0-%EC%82%AC%EC%9A%A9%ED%95%98%EA%B8%B0)를 참고하여 ubuntu 환경에도 chrome 및 chrome driver를 설치하여 크롤링 할 수 있습니다. 각자 사용 환경에 따른 크롤링 설정이 다르므로 유의하시기 바랍니다. "
   ]
  },
  {
   "cell_type": "code",
   "execution_count": 3,
   "id": "veterinary-difficulty",
   "metadata": {},
   "outputs": [
    {
     "name": "stderr",
     "output_type": "stream",
     "text": [
      "/opt/conda/lib/python3.7/site-packages/ipykernel_launcher.py:7: DeprecationWarning: use options instead of chrome_options\n",
      "  import sys\n"
     ]
    }
   ],
   "source": [
    "chrome_options = webdriver.ChromeOptions()\n",
    "chrome_options.add_argument('--headless')\n",
    "chrome_options.add_argument('--no-sandbox')\n",
    "chrome_options.add_argument(\"--single-process\")\n",
    "chrome_options.add_argument(\"--disable-dev-shm-usage\")\n",
    "path='/chromedriver'\n",
    "driver = webdriver.Chrome(executable_path = path, chrome_options=chrome_options)"
   ]
  },
  {
   "cell_type": "code",
   "execution_count": 4,
   "id": "common-register",
   "metadata": {},
   "outputs": [],
   "source": [
    "driver.get(url)"
   ]
  },
  {
   "cell_type": "code",
   "execution_count": 5,
   "id": "accurate-simple",
   "metadata": {},
   "outputs": [],
   "source": [
    "html = driver.page_source\n",
    "soup = BeautifulSoup(html)\n",
    "imglist = []"
   ]
  },
  {
   "cell_type": "code",
   "execution_count": 6,
   "id": "south-glasgow",
   "metadata": {},
   "outputs": [
    {
     "name": "stdout",
     "output_type": "stream",
     "text": [
      "0\n"
     ]
    }
   ],
   "source": [
    "for i in range(0, 50):\n",
    "    insta = soup.select('.v1Nh3.kIKUG._bz0w')\n",
    "    for i in insta:\n",
    "        print('https://www.instagram.com'+ i.a['href'])\n",
    "        imgUrl = i.select_one('.KL4Bh').img['src']\n",
    "        imglist.append(imgUrl)\n",
    "        imglist = list(set(imglist))\n",
    "        html = driver.page_source\n",
    "        soup = BeautifulSoup(html)\n",
    "        insta = soup.select('.v1Nh3.kIKUG._bz0w')\n",
    "        \n",
    "    driver.execute_script(\"window.scrollTo(0, document.body.scrollHeight);\")\n",
    "    time.sleep(2)\n",
    "\n",
    "print(len(imglist))"
   ]
  },
  {
   "cell_type": "code",
   "execution_count": 15,
   "id": "stylish-interstate",
   "metadata": {},
   "outputs": [],
   "source": [
    "n=469\n",
    "for i in range(0, len(imglist)):\n",
    "    # This is the image url.\n",
    "    image_url = imglist[i]\n",
    "    # Open the url image, set stream to True, this will return the stream content.\n",
    "    resp = requests.get(image_url, stream=True)\n",
    "    # Open a local file with wb ( write binary ) permission.\n",
    "    local_file = open('./img/' + \"id_photo\" + str(n) + '.jpg', 'wb')\n",
    "    # Set decode_content value to True, otherwise the downloaded image file's size will be zero.\n",
    "    resp.raw.decode_content = True\n",
    "    # Copy the response stream raw data to local image file.\n",
    "    shutil.copyfileobj(resp.raw, local_file)\n",
    "    # Remove the image url response object.\n",
    "    n +=1\n",
    "    del resp\n",
    "\n",
    "driver.close()"
   ]
  }
 ],
 "metadata": {
  "kernelspec": {
   "display_name": "Python 3",
   "language": "python",
   "name": "python3"
  },
  "language_info": {
   "codemirror_mode": {
    "name": "ipython",
    "version": 3
   },
   "file_extension": ".py",
   "mimetype": "text/x-python",
   "name": "python",
   "nbconvert_exporter": "python",
   "pygments_lexer": "ipython3",
   "version": "3.7.10"
  }
 },
 "nbformat": 4,
 "nbformat_minor": 5
}
